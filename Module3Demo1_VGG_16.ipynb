{
  "cells": [
    {
      "cell_type": "markdown",
      "metadata": {
        "id": "view-in-github",
        "colab_type": "text"
      },
      "source": [
        "<a href=\"https://colab.research.google.com/github/axel-sirota/cnn-visual-mastery/blob/main/Module3Demo1_VGG_16.ipynb\" target=\"_parent\"><img src=\"https://colab.research.google.com/assets/colab-badge.svg\" alt=\"Open In Colab\"/></a>"
      ]
    },
    {
      "cell_type": "markdown",
      "source": [
        "# Using Transfer Learning from VGG-16 to solve cats vs dogs"
      ],
      "metadata": {
        "id": "Ff7gsIfz-gKr"
      }
    },
    {
      "cell_type": "code",
      "execution_count": null,
      "metadata": {
        "id": "3fJ64e__jrm4"
      },
      "outputs": [],
      "source": [
        "pip install tensorflow-datasets\n"
      ]
    },
    {
      "cell_type": "markdown",
      "source": [
        "Again we will load the dataset"
      ],
      "metadata": {
        "id": "6mmSPKKn-vVf"
      }
    },
    {
      "cell_type": "code",
      "execution_count": null,
      "metadata": {
        "id": "04aW3Hc7jxlU"
      },
      "outputs": [],
      "source": [
        "import matplotlib.pyplot as plt\n",
        "import numpy as np\n",
        "import tensorflow as tf\n",
        "import tensorflow_datasets as tfds\n",
        "from tensorflow.keras.applications import VGG16\n",
        "from tensorflow.keras.models import Sequential\n",
        "from tensorflow.keras.layers import Flatten, Dense, Dropout\n",
        "from tensorflow.keras.optimizers import RMSprop\n",
        "from tensorflow.keras.preprocessing.image import ImageDataGenerator\n",
        "from keras.callbacks import EarlyStopping\n",
        "\n",
        "# Load Cats vs. Dogs dataset\n",
        "(train_ds, validation_ds), ds_info = tfds.load(\n",
        "    'cats_vs_dogs',\n",
        "    split=['train[:80%]', 'train[80%:]'],\n",
        "    as_supervised=True,\n",
        "    with_info=True,\n",
        ")"
      ]
    },
    {
      "cell_type": "markdown",
      "source": [
        "And now asides resizing to vgg format, we will augment the dataset by flipping it left and right, up and down and changing brightness"
      ],
      "metadata": {
        "id": "ZYThoZOO-x-d"
      }
    },
    {
      "cell_type": "code",
      "execution_count": null,
      "metadata": {
        "id": "n693tHgGkq5m"
      },
      "outputs": [],
      "source": [
        "\n",
        "# Preprocess and augment the data\n",
        "def preprocess(image, label):\n",
        "    image = tf.image.resize(image, (150, 150))\n",
        "    return image, label\n",
        "\n",
        "def augment(image, label):\n",
        "    # Data augmentation using TensorFlow ops\n",
        "    image = tf.image.random_flip_left_right(image)\n",
        "    image = tf.image.random_flip_up_down(image)\n",
        "    image = tf.image.random_brightness(image, max_delta=0.5)\n",
        "    return image, label\n",
        "\n",
        "# Apply preprocessing and augmentation to the dataset\n",
        "train_ds = train_ds.map(preprocess).map(augment).batch(32).prefetch(buffer_size=tf.data.AUTOTUNE)\n",
        "validation_ds = validation_ds.map(preprocess).map(augment).batch(32).prefetch(buffer_size=tf.data.AUTOTUNE)\n",
        "\n"
      ]
    },
    {
      "cell_type": "markdown",
      "source": [
        "Now we load VGG-16, freeze it and put it on top of our model, notice we don't need the Convolutions no more."
      ],
      "metadata": {
        "id": "WzEFoF85-6sp"
      }
    },
    {
      "cell_type": "code",
      "execution_count": null,
      "metadata": {
        "id": "BGMvTouDksq2"
      },
      "outputs": [],
      "source": [
        "\n",
        "# Load VGG16 model pre-trained on ImageNet data\n",
        "vgg_base = VGG16(weights='imagenet', include_top=False, input_shape=(150, 150, 3))\n",
        "\n",
        "# # Freeze the layers\n",
        "for layer in vgg_base.layers:\n",
        "    layer.trainable = False\n",
        "\n",
        "# Create a new model on top\n",
        "model = Sequential([\n",
        "    vgg_base,\n",
        "    Flatten(),\n",
        "    Dense(256, activation='relu'),\n",
        "    Dropout(0.15),\n",
        "    Dense(1, activation='sigmoid')  # Binary classification\n",
        "])\n",
        "\n",
        "# Compile the model\n",
        "model.compile(optimizer='adam', loss='binary_crossentropy', metrics=['accuracy'])\n",
        "model.summary()\n"
      ]
    },
    {
      "cell_type": "markdown",
      "source": [
        "And we train, notice how much better it is"
      ],
      "metadata": {
        "id": "9Qdh-Zpc_AMH"
      }
    },
    {
      "cell_type": "code",
      "execution_count": null,
      "metadata": {
        "id": "Oxkk28a0kvm6"
      },
      "outputs": [],
      "source": [
        "# Train the model\n",
        "callback = EarlyStopping(monitor='val_accuracy', patience=5)\n",
        "history = model.fit(train_ds, epochs=100, validation_data=validation_ds, callbacks=[callback])"
      ]
    },
    {
      "cell_type": "code",
      "execution_count": null,
      "metadata": {
        "id": "zayvMzaTkISj"
      },
      "outputs": [],
      "source": [
        "def display_multiple_predictions(dataset, model, num_images=5):\n",
        "    plt.figure(figsize=(15, 3))  # Set the figure size\n",
        "\n",
        "    for i, (img, label) in enumerate(dataset.unbatch().take(num_images)):\n",
        "        # Convert the label tensor to a numpy value\n",
        "        actual_label = 'Dog' if label.numpy() == 1 else 'Cat'\n",
        "\n",
        "        # Make a prediction\n",
        "        predictions = model.predict(tf.expand_dims(img, 0))\n",
        "        predicted_label = 'Dog' if predictions[0][0] > 0.5 else 'Cat'\n",
        "\n",
        "        # Plotting\n",
        "        plt.subplot(1, num_images, i+1)\n",
        "        plt.imshow(img.numpy().astype(\"int32\"))\n",
        "        plt.title(f'A: {actual_label}\\nP: {predicted_label}')\n",
        "        plt.axis('off')\n",
        "\n",
        "    plt.show()"
      ]
    },
    {
      "cell_type": "code",
      "execution_count": null,
      "metadata": {
        "id": "xPfXd2PvkIoI"
      },
      "outputs": [],
      "source": [
        "display_multiple_predictions(validation_ds, model)"
      ]
    },
    {
      "cell_type": "markdown",
      "source": [
        "Finally we can see on sample pictures how good the model is"
      ],
      "metadata": {
        "id": "NNoe-MTR_M1z"
      }
    },
    {
      "cell_type": "code",
      "source": [],
      "metadata": {
        "id": "BfGi4Grgt5iS"
      },
      "execution_count": null,
      "outputs": []
    }
  ],
  "metadata": {
    "accelerator": "GPU",
    "colab": {
      "gpuType": "A100",
      "machine_shape": "hm",
      "provenance": [],
      "authorship_tag": "ABX9TyOk955pOh/FtFfUnuxQD6zJ",
      "include_colab_link": true
    },
    "kernelspec": {
      "display_name": "Python 3",
      "name": "python3"
    },
    "language_info": {
      "name": "python"
    }
  },
  "nbformat": 4,
  "nbformat_minor": 0
}