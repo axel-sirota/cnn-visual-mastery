{
  "nbformat": 4,
  "nbformat_minor": 0,
  "metadata": {
    "colab": {
      "provenance": [],
      "machine_shape": "hm",
      "gpuType": "A100",
      "authorship_tag": "ABX9TyOIYj2MT30zpxu/9d8fGbez",
      "include_colab_link": true
    },
    "kernelspec": {
      "name": "python3",
      "display_name": "Python 3"
    },
    "language_info": {
      "name": "python"
    },
    "accelerator": "GPU"
  },
  "cells": [
    {
      "cell_type": "markdown",
      "metadata": {
        "id": "view-in-github",
        "colab_type": "text"
      },
      "source": [
        "<a href=\"https://colab.research.google.com/github/axel-sirota/cnn-visual-mastery/blob/main/Module2Demo1_BasicCNN.ipynb\" target=\"_parent\"><img src=\"https://colab.research.google.com/assets/colab-badge.svg\" alt=\"Open In Colab\"/></a>"
      ]
    },
    {
      "cell_type": "markdown",
      "source": [
        "# Creating a Basic CNN model\n",
        "\n"
      ],
      "metadata": {
        "id": "arkS8rO5wn5w"
      }
    },
    {
      "cell_type": "markdown",
      "source": [
        "In this demo we will create a basic CNN model to solve the cats vs dogs problem"
      ],
      "metadata": {
        "id": "5TWCaVEg9wer"
      }
    },
    {
      "cell_type": "code",
      "source": [
        "pip install tensorflow-datasets\n"
      ],
      "metadata": {
        "id": "DJhe94Y9idMC"
      },
      "execution_count": null,
      "outputs": []
    },
    {
      "cell_type": "code",
      "execution_count": null,
      "metadata": {
        "id": "aksDe4PFb3Hg"
      },
      "outputs": [],
      "source": [
        "import tensorflow as tf\n",
        "import tensorflow_datasets as tfds\n",
        "from tensorflow.keras.models import Sequential\n",
        "from tensorflow.keras.layers import Conv2D, MaxPooling2D, Flatten, Dense\n",
        "\n",
        "# Load the Cats vs Dogs dataset\n",
        "(train_ds, validation_ds), ds_info = tfds.load(\n",
        "    'cats_vs_dogs',\n",
        "    split=['train[:80%]', 'train[80%:]'],\n",
        "    as_supervised=True,  # Include labels\n",
        "    with_info=True,\n",
        ")\n"
      ]
    },
    {
      "cell_type": "markdown",
      "source": [
        "First we need to preprocess the data, normally resizing it and ensuring pixels are normalized. We will use Tensorflow Datasets functionality for that"
      ],
      "metadata": {
        "id": "5QjVGl5N95dx"
      }
    },
    {
      "cell_type": "code",
      "source": [
        "\n",
        "# Preprocess the data\n",
        "def preprocess(image, label):\n",
        "    image = tf.image.resize(image, [64, 64])  # Resize images\n",
        "    image = tf.cast(image, tf.float32) / 255.0  # Normalize pixel values\n",
        "    return image, label\n",
        "\n",
        "train_ds = train_ds.map(preprocess).batch(32).prefetch(buffer_size=tf.data.AUTOTUNE)\n",
        "validation_ds = validation_ds.map(preprocess).batch(32).prefetch(buffer_size=tf.data.AUTOTUNE)\n"
      ],
      "metadata": {
        "id": "YjrlSdff93FN"
      },
      "execution_count": null,
      "outputs": []
    },
    {
      "cell_type": "markdown",
      "source": [
        "And now the model, we will just do 2 rounds of Convolutional layers and MaxPooling, followed by one round on FFN."
      ],
      "metadata": {
        "id": "sSs1cDR9-Hsc"
      }
    },
    {
      "cell_type": "code",
      "source": [
        "\n",
        "# Build the CNN model\n",
        "model = Sequential([\n",
        "    Conv2D(32, (3, 3), activation='relu', input_shape=(64, 64, 3)),\n",
        "    MaxPooling2D(2, 2),\n",
        "    Conv2D(64, (3, 3), activation='relu'),\n",
        "    MaxPooling2D(2, 2),\n",
        "    Flatten(),\n",
        "    Dense(128, activation='relu'),\n",
        "    Dense(1, activation='sigmoid')  # Binary classification (cat or dog)\n",
        "])\n",
        "\n",
        "# Compile the model\n",
        "model.compile(optimizer='adam', loss='binary_crossentropy', metrics=['accuracy'])\n",
        "\n",
        "# Train the model\n",
        "history = model.fit(train_ds, validation_data=validation_ds, epochs=10)\n",
        "\n",
        "# Evaluate the model\n",
        "val_loss, val_accuracy = model.evaluate(validation_ds)\n",
        "print(f\"Validation accuracy: {val_accuracy*100:.2f}%\")\n"
      ],
      "metadata": {
        "id": "6MM5Jsvy94Yh"
      },
      "execution_count": null,
      "outputs": []
    }
  ]
}